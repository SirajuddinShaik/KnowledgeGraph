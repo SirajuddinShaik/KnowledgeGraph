{
 "cells": [
  {
   "cell_type": "code",
   "execution_count": 5,
   "id": "71b00c51",
   "metadata": {},
   "outputs": [],
   "source": [
    "import os\n",
    "import openai\n",
    "from dotenv import load_dotenv\n",
    "load_dotenv()\n",
    "client = openai.AsyncOpenAI(\n",
    "            api_key=os.getenv(\"OPENAI_API_KEY\"),\n",
    "            base_url=os.getenv(\"LLM_BASE_URL\"),\n",
    "        )"
   ]
  },
  {
   "cell_type": "code",
   "execution_count": 9,
   "id": "f6101b17",
   "metadata": {},
   "outputs": [
    {
     "name": "stdout",
     "output_type": "stream",
     "text": [
      "Hello! That's very kind of you to offer.\n",
      "\n",
      "As an AI, my purpose is actually to assist *you*. So, how can I help *you* today?\n",
      "\n",
      "Do you have a question, need information, want to brainstorm ideas, or something else?\n"
     ]
    }
   ],
   "source": [
    "response = await client.chat.completions.create(\n",
    "                model=\"gemini-2.5-flash\",\n",
    "                messages=[\n",
    "                    {\"role\": \"user\", \"content\": \"Hello! How can I assist you today?\"}\n",
    "                ],\n",
    "                temperature=0.1\n",
    "            )\n",
    "print(response.choices[0].message.content)"
   ]
  },
  {
   "cell_type": "code",
   "execution_count": null,
   "id": "59302772",
   "metadata": {},
   "outputs": [],
   "source": []
  }
 ],
 "metadata": {
  "language_info": {
   "name": "python"
  }
 },
 "nbformat": 4,
 "nbformat_minor": 5
}
