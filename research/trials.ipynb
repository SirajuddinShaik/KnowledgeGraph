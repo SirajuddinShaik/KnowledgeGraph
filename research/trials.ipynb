{
 "cells": [
  {
   "cell_type": "code",
   "execution_count": 1,
   "id": "71b00c51",
   "metadata": {},
   "outputs": [],
   "source": [
    "import os\n",
    "import openai\n",
    "from dotenv import load_dotenv\n",
    "load_dotenv()\n",
    "client = openai.AsyncOpenAI(\n",
    "            api_key=os.getenv(\"OPENAI_API_KEY\"),\n",
    "            base_url=os.getenv(\"LLM_BASE_URL\"),\n",
    "        )"
   ]
  },
  {
   "cell_type": "code",
   "execution_count": 3,
   "id": "f6101b17",
   "metadata": {},
   "outputs": [
    {
     "name": "stdout",
     "output_type": "stream",
     "text": [
      "Hello there! That's very kind of you to offer.\n",
      "\n",
      "As an AI, I don't have personal needs or tasks that require assistance in the way a human might. My purpose is to assist *you*!\n",
      "\n",
      "So, instead of assisting me, you can tell me what you'd like *me* to do for *you*.\n",
      "\n",
      "Do you have a question? Need help brainstorming? Want me to write something? Just let me know!\n"
     ]
    }
   ],
   "source": [
    "response = await client.chat.completions.create(\n",
    "                model=\"gemini-2.5-flash\",\n",
    "                messages=[\n",
    "                    {\"role\": \"user\", \"content\": \"Hello! How can I assist you today?\"}\n",
    "                ],\n",
    "                temperature=0.1\n",
    "            )\n",
    "print(response.choices[0].message.content)"
   ]
  },
  {
   "cell_type": "code",
   "execution_count": 6,
   "id": "59302772",
   "metadata": {},
   "outputs": [
    {
     "name": "stdout",
     "output_type": "stream",
     "text": [
      "Error 400: {\"error\":\"Catalog exception: function SIMILARITY does not exist.\"}\n"
     ]
    }
   ],
   "source": [
    "import requests\n",
    "import json\n",
    "\n",
    "def run_remote_query():\n",
    "    url = \"http://localhost:7000/cypher\"\n",
    "    \n",
    "    query = \"\"\"\n",
    "    WITH $queryEmbedding AS queryEmbedding,\n",
    "         $threshold AS threshold,\n",
    "         $requiredPermission AS requiredPermission\n",
    "    MATCH (a:Person)-[r]->(b)\n",
    "    WHERE requiredPermission IN a.permissions\n",
    "      AND requiredPermission IN r.permissions\n",
    "      AND requiredPermission IN b.permissions\n",
    "      AND avg(\n",
    "            similarity(r.embedding, queryEmbedding, 'cosine'),\n",
    "            similarity(b.embedding, queryEmbedding, 'cosine')\n",
    "          ) > threshold\n",
    "    RETURN a.name AS source,\n",
    "           b.name AS target,\n",
    "           r.permissions AS rel_permissions,\n",
    "           avg(\n",
    "              similarity(r.embedding, queryEmbedding, 'cosine'),\n",
    "              similarity(b.embedding, queryEmbedding, 'cosine')\n",
    "           ) AS score\n",
    "    ORDER BY score DESC\n",
    "    \"\"\"\n",
    "\n",
    "    payload = {\n",
    "        \"query\": query,\n",
    "        \"parameters\": {\n",
    "            \"queryEmbedding\": [0.12, 0.45, 0.78],\n",
    "            \"threshold\": 0.75,\n",
    "            \"requiredPermission\": \"read\"\n",
    "        }\n",
    "    }\n",
    "\n",
    "    headers = {\"Content-Type\": \"application/json\"}\n",
    "\n",
    "    resp = requests.post(url, headers=headers, data=json.dumps(payload))\n",
    "\n",
    "    if resp.status_code == 200:\n",
    "        data = resp.json()\n",
    "        print(json.dumps(data, indent=2))\n",
    "    else:\n",
    "        print(f\"Error {resp.status_code}: {resp.text}\")\n",
    "\n",
    "if __name__ == \"__main__\":\n",
    "    run_remote_query()\n"
   ]
  },
  {
   "cell_type": "code",
   "execution_count": null,
   "id": "bc3a3db9",
   "metadata": {},
   "outputs": [
    {
     "name": "stdout",
     "output_type": "stream",
     "text": [
      "Error 400: {\"error\":\"Binder exception: Cannot retrieve child type of type ANY. LIST or ARRAY is expected.\"}\n"
     ]
    }
   ],
   "source": [
    "import requests\n",
    "import json\n",
    "\n",
    "def run_remote_query():\n",
    "    url = \"http://localhost:7000/cypher\"\n",
    "\n",
    "    query = \"\"\"\n",
    "    WITH $queryEmbedding AS queryEmbedding,\n",
    "         $threshold AS threshold,\n",
    "         $requiredPermission AS requiredPermission\n",
    "    MATCH (a:Person)-[r]->(b)\n",
    "    WHERE requiredPermission IN a.permissions\n",
    "      AND requiredPermission IN r.permissions\n",
    "      AND requiredPermission IN b.permissions\n",
    "      AND avg(\n",
    "          array_cosine_similarity(r.embedding, queryEmbedding),\n",
    "          array_cosine_similarity(b.embedding, queryEmbedding)\n",
    "      ) > threshold\n",
    "    RETURN a.name AS source,\n",
    "           b.name AS target,\n",
    "           r.permissions AS rel_permissions,\n",
    "           avg(\n",
    "              array_cosine_similarity(r.embedding, queryEmbedding),\n",
    "              array_cosine_similarity(b.embedding, queryEmbedding)\n",
    "           ) AS score\n",
    "    ORDER BY score DESC\n",
    "    \"\"\"\n",
    "\n",
    "    payload = {\n",
    "        \"query\": query,\n",
    "        \"parameters\": {\n",
    "            \"queryEmbedding\": [0]*2560,  # must match your embedding dimension\n",
    "            \"threshold\": 0.55,\n",
    "            \"requiredPermission\": \"prasad.nagarale@juspay.in\"\n",
    "        }\n",
    "    }\n",
    "\n",
    "    headers = {\"Content-Type\": \"application/json\"}\n",
    "\n",
    "    resp = requests.post(url, headers=headers, data=json.dumps(payload))\n",
    "\n",
    "    if resp.status_code == 200:\n",
    "        print(json.dumps(resp.json(), indent=2))\n",
    "    else:\n",
    "        print(f\"Error {resp.status_code}: {resp.text}\")\n",
    "\n",
    "\n",
    "if __name__ == \"__main__\":\n",
    "    run_remote_query()\n"
   ]
  },
  {
   "cell_type": "code",
   "execution_count": null,
   "id": "239034e9",
   "metadata": {},
   "outputs": [],
   "source": []
  }
 ],
 "metadata": {
  "kernelspec": {
   "display_name": "xenq_env",
   "language": "python",
   "name": "python3"
  },
  "language_info": {
   "codemirror_mode": {
    "name": "ipython",
    "version": 3
   },
   "file_extension": ".py",
   "mimetype": "text/x-python",
   "name": "python",
   "nbconvert_exporter": "python",
   "pygments_lexer": "ipython3",
   "version": "3.12.3"
  }
 },
 "nbformat": 4,
 "nbformat_minor": 5
}
